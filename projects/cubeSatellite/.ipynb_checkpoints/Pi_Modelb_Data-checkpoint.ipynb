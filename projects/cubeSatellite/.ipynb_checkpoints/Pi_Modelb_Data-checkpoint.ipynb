{
 "cells": [
  {
   "cell_type": "markdown",
   "metadata": {},
   "source": [
    "<img src=\"Images/Ballenas_logo.jpg\">\n",
    "# BSS Two Unit Cub Satellite Payload: Raspberry Pi Model B Testing"
   ]
  },
  {
   "cell_type": "markdown",
   "metadata": {},
   "source": [
    "This notebook was built using the data collected in the testing of a Raspberry Pi 3 Model B (Model B). The intent of the data is to show that a Raspberry Pi Model B can operate in several environments: static, near near vacuum, hot  temperature (80 degress Celsius), cold temperature (-XX degrees Calculus) and high impact while preforming a task.\n",
    "\n",
    "For each test the Model B was booted, placed in the environment and then a program was executed. This simple program completed computational work and had the Model B compute 2.2 million calculations using the equation x to the power of two. This program was intended to run approximately 10 minutes which will potentially be the longest amount of time the pi will need to survive said environments. The resulting data was then graphed to look for any missed calculations that could be an indication of the Model B enduring a change in performance because of the environment it was exposed to. The data was graphed to determine if there were any anomalies (miscalculations) in the data collected. The time taken to complete the calculations is also an indicator for a change in the Pi's performance. "
   ]
  },
  {
   "cell_type": "code",
   "execution_count": 2,
   "metadata": {
    "collapsed": true
   },
   "outputs": [],
   "source": [
    "#import of libraries.\n",
    "#this cell must be run each time the notebook is started.\n",
    "import pandas as pd\n",
    "import numpy as np\n",
    "import matplotlib.pyplot as plt\n",
    "%matplotlib inline"
   ]
  },
  {
   "cell_type": "markdown",
   "metadata": {},
   "source": [
    "## Static Test:\n",
    "The first test the Model B experienced was a static test in which it operated at room temperature (21 degress Celsius). This test was done to set a baseline to compare other tests with. This test was 592.29 seconds long.\n",
    "\n",
    "<img src=\"Images/Model3Stat.jpg\">"
   ]
  },
  {
   "cell_type": "code",
   "execution_count": 1,
   "metadata": {
    "scrolled": true
   },
   "outputs": [
    {
     "ename": "NameError",
     "evalue": "name 'pd' is not defined",
     "output_type": "error",
     "traceback": [
      "\u001b[1;31m---------------------------------------------------------------------------\u001b[0m",
      "\u001b[1;31mNameError\u001b[0m                                 Traceback (most recent call last)",
      "\u001b[1;32m<ipython-input-1-071f5c551ace>\u001b[0m in \u001b[0;36m<module>\u001b[1;34m()\u001b[0m\n\u001b[0;32m      1\u001b[0m \u001b[1;31m#this cell imports the csv data file and displays its information to ensure all data has been included.\u001b[0m\u001b[1;33m\u001b[0m\u001b[1;33m\u001b[0m\u001b[0m\n\u001b[1;32m----> 2\u001b[1;33m \u001b[0mdata\u001b[0m \u001b[1;33m=\u001b[0m \u001b[0mpd\u001b[0m\u001b[1;33m.\u001b[0m\u001b[0mread_csv\u001b[0m\u001b[1;33m(\u001b[0m\u001b[1;34m'Raw_Data/static-pimodelb.csv'\u001b[0m\u001b[1;33m)\u001b[0m\u001b[1;33m\u001b[0m\u001b[0m\n\u001b[0m\u001b[0;32m      3\u001b[0m \u001b[0mdata\u001b[0m\u001b[1;33m.\u001b[0m\u001b[0minfo\u001b[0m\u001b[1;33m(\u001b[0m\u001b[1;33m)\u001b[0m\u001b[1;33m\u001b[0m\u001b[0m\n",
      "\u001b[1;31mNameError\u001b[0m: name 'pd' is not defined"
     ]
    }
   ],
   "source": [
    "#this cell imports the csv data file and displays its information to ensure all data has been included.\n",
    "data = pd.read_csv('Raw_Data/static-pimodelb.csv')\n",
    "data.info()"
   ]
  },
  {
   "cell_type": "code",
   "execution_count": 4,
   "metadata": {
    "scrolled": true
   },
   "outputs": [
    {
     "data": {
      "text/plain": [
       "[<matplotlib.lines.Line2D at 0x15d2b9486d8>]"
      ]
     },
     "execution_count": 4,
     "metadata": {},
     "output_type": "execute_result"
    },
    {
     "data": {
      "image/png": "[encoded data removed]",
      "text/plain": [
       "<matplotlib.figure.Figure at 0x15d3022fd30>"
      ]
     },
     "metadata": {},
     "output_type": "display_data"
    }
   ],
   "source": [
    "#this cell plots the data as the result as a function of the iteration\n",
    "x_data = data['Iteration']\n",
    "y_data = data['Result']\n",
    "plt.ylabel('Result')\n",
    "plt.xlabel('Iteration')\n",
    "plt.title('Static Test Data')\n",
    "plt.plot(x_data, y_data)"
   ]
  },
  {
   "cell_type": "markdown",
   "metadata": {},
   "source": [
    "As can be seen from the graph the Model 3 did not have any troubles running through the calculations in the static test."
   ]
  },
  {
   "cell_type": "markdown",
   "metadata": {},
   "source": [
    "## Near Vacuum:\n",
    "This test was done using the school's bell jar under which the Model B was placed. A ring of plumbers putty between the jar and its base allowed for the running of the cables. Total test time was 592.19 seconds.\n",
    "\n",
    "<img src=\"Images/Model3Vac.jpg\">"
   ]
  },
  {
   "cell_type": "code",
   "execution_count": 6,
   "metadata": {
    "scrolled": false
   },
   "outputs": [
    {
     "name": "stdout",
     "output_type": "stream",
     "text": [
      "<class 'pandas.core.frame.DataFrame'>\n",
      "RangeIndex: 2200001 entries, 0 to 2200000\n",
      "Data columns (total 2 columns):\n",
      "Iteration    int64\n",
      "Result       int64\n",
      "dtypes: int64(2)\n",
      "memory usage: 33.6 MB\n"
     ]
    }
   ],
   "source": [
    "#this cell imports the csv data file and displays its information to ensure all data has been included.\n",
    "data = pd.read_csv('Raw_Data/vacuum_pi_model_3B.csv')\n",
    "data.info()"
   ]
  },
  {
   "cell_type": "code",
   "execution_count": 7,
   "metadata": {},
   "outputs": [
    {
     "data": {
      "text/plain": [
       "[<matplotlib.lines.Line2D at 0x15d31813c18>]"
      ]
     },
     "execution_count": 7,
     "metadata": {},
     "output_type": "execute_result"
    },
    {
     "data": {
      "image/png": "[encoded data removed]",
      "text/plain": [
       "<matplotlib.figure.Figure at 0x15d305950f0>"
      ]
     },
     "metadata": {},
     "output_type": "display_data"
    }
   ],
   "source": [
    "#this cell plots the data as the reult as a function of the iteration\n",
    "x1_data = data['Iteration']\n",
    "y1_data = data['Result']\n",
    "plt.ylabel('Result')\n",
    "plt.xlabel('Iteration')\n",
    "plt.title('Near Vacuum Data')\n",
    "plt.plot(x1_data, y1_data)"
   ]
  },
  {
   "cell_type": "markdown",
   "metadata": {
    "collapsed": true
   },
   "source": [
    "As can be seen from the graph the Model B did not have any troubles running through the calculations in the near vacuum test. There are no points within the graph that show a miscalculation or and the graphs is identical to the static. The time it took to calculate the 2.2 million iterations was also the same as the static test. "
   ]
  },
  {
   "cell_type": "markdown",
   "metadata": {
    "collapsed": true
   },
   "source": [
    "## Hot Temperature (80 degress Celsius):\n",
    "\n",
    "\n",
    "This test used a hot plate and a bell jar to contain a temperature of 80 degrees Celsius. The highest estimated temperature the pi will have to endure while waiting for launch (given by UBC Rocket Team) will be 55 degrees Celsius. The rudimentry test.....  \n",
    "<img src=\"Images/Model3Hot.JPG\">"
   ]
  },
  {
   "cell_type": "markdown",
   "metadata": {},
   "source": [
    "Blah blah blah"
   ]
  },
  {
   "cell_type": "markdown",
   "metadata": {},
   "source": [
    "## Cold Temperature (XX degress Calculus):"
   ]
  },
  {
   "cell_type": "markdown",
   "metadata": {},
   "source": [
    "Blah blah blah"
   ]
  },
  {
   "cell_type": "code",
   "execution_count": null,
   "metadata": {
    "collapsed": true
   },
   "outputs": [],
   "source": []
  },
  {
   "cell_type": "code",
   "execution_count": null,
   "metadata": {
    "collapsed": true
   },
   "outputs": [],
   "source": []
  },
  {
   "cell_type": "markdown",
   "metadata": {},
   "source": [
    "Blah blah blah"
   ]
  },
  {
   "cell_type": "markdown",
   "metadata": {},
   "source": [
    "## High Impact: "
   ]
  },
  {
   "cell_type": "code",
   "execution_count": null,
   "metadata": {
    "collapsed": true
   },
   "outputs": [],
   "source": []
  },
  {
   "cell_type": "code",
   "execution_count": null,
   "metadata": {
    "collapsed": true
   },
   "outputs": [],
   "source": []
  },
  {
   "cell_type": "markdown",
   "metadata": {},
   "source": [
    "Blah blah blah"
   ]
  },
  {
   "cell_type": "code",
   "execution_count": null,
   "metadata": {
    "collapsed": true
   },
   "outputs": [],
   "source": []
  }
 ],
 "metadata": {
  "kernelspec": {
   "display_name": "Python 3",
   "language": "python",
   "name": "python3"
  },
  "language_info": {
   "codemirror_mode": {
    "name": "ipython",
    "version": 3
   },
   "file_extension": ".py",
   "mimetype": "text/x-python",
   "name": "python",
   "nbconvert_exporter": "python",
   "pygments_lexer": "ipython3",
   "version": "3.6.2"
  }
 },
 "nbformat": 4,
 "nbformat_minor": 2
}
